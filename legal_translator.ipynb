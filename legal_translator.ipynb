{
 "cells": [
  {
   "cell_type": "markdown",
   "metadata": {},
   "source": [
    "# Automatic legal file formatter\n",
    "\n",
    "To specify which file should be formatted, change the path in the cell below:"
   ]
  },
  {
   "cell_type": "code",
   "execution_count": 1,
   "metadata": {},
   "outputs": [],
   "source": [
    "file_path = 'legal3.txt'"
   ]
  },
  {
   "cell_type": "code",
   "execution_count": 2,
   "metadata": {},
   "outputs": [],
   "source": [
    "import re\n",
    "\n",
    "\n",
    "def standardize_legal_description(text):\n",
    "    # Remove text inside parentheses (such as in legal3.txt)\n",
    "    text = re.sub(r\"\\(.*?\\)\", \"\", text)\n",
    "\n",
    "    # Replace periods with spaces if they are preceded by a cardinal direction\n",
    "    text = re.sub(r'(?<=[NSEW])\\.', ' ', text)\n",
    "\n",
    "    # Translation of non-standard characters to dashes or spaces\n",
    "    translation_table = str.maketrans({'°':'-', \"'\":'-', '\"':'-', ',':' ', '’':'-'})\n",
    "\n",
    "    text = text.translate(translation_table)\n",
    "\n",
    "    # Replace non-digit character between groups of 2 digits with a dash (for typos)\n",
    "    text = re.sub(r\"(?<=\\d{2})\\D(?=\\d{2}\\D?\\d{2})\", \"-\", text)\n",
    "    return text\n",
    "\n",
    "\n",
    "def group_text(text):\n",
    "    pattern = re.compile(r'([NS])\\s*(\\d{2})\\D(\\d{2})\\D(\\d{2})\\D?([WE])\\s*([\\d.]+)')\n",
    "\n",
    "    # Find all matches\n",
    "    matches = pattern.findall(text)\n",
    "\n",
    "    formatted_lines = []\n",
    "\n",
    "    # Iterate over matches to format them\n",
    "    for match in matches:\n",
    "        direction1 = match[0]\n",
    "        degrees = match[1]\n",
    "        minutes = match[2]\n",
    "        seconds = match[3]\n",
    "        direction2 = match[4]\n",
    "        distance = match[5]\n",
    "\n",
    "        # Create the formatted string\n",
    "        formatted_line = f\"{direction1} {degrees}:{minutes}:{seconds} {direction2} {distance}\"\n",
    "        formatted_lines.append(formatted_line)\n",
    "\n",
    "    return ' '.join(formatted_lines)\n",
    "\n",
    "\n",
    "def final_mesh(text):\n",
    "    # Second pattern to clean up extra colons and spaces\n",
    "    pattern2 = re.compile(r'([NS])\\s*(\\d{2}):(\\d{2}):(\\d{2})\\s*:{0,}\\s*([WE])\\s*([\\d.]+)')\n",
    "\n",
    "    matches = pattern2.findall(text)\n",
    "\n",
    "    formatted_lines = []\n",
    "\n",
    "    # Iterate over matches to format them\n",
    "    for match in matches:\n",
    "        direction1 = match[0]\n",
    "        degrees = match[1]\n",
    "        minutes = match[2]\n",
    "        seconds = match[3]\n",
    "        direction2 = match[4]\n",
    "        distance = match[5]\n",
    "\n",
    "        # Create the formatted string\n",
    "        formatted_line = f\"{direction1} {degrees}:{minutes}:{seconds} {direction2} {distance}\"\n",
    "        formatted_lines.append(formatted_line)\n",
    "    \n",
    "    return formatted_lines\n",
    "\n",
    "\n",
    "\n",
    "def convert_legal_description(file_path):\n",
    "    with open(file_path, 'r') as file:\n",
    "        legal_description = file.read()\n",
    "\n",
    "    legal_description = standardize_legal_description(legal_description)\n",
    "    grouped_text = group_text(legal_description)\n",
    "    formatted_lines = final_mesh(grouped_text)\n",
    "\n",
    "    # Write the formatted lines to a new file or print them\n",
    "    with open('formatted_legal.txt', 'w') as output_file:\n",
    "        for line in formatted_lines:\n",
    "            output_file.write(line + '\\n')\n",
    "\n",
    "    print(\"Conversion complete! Check the 'formatted_legal.txt' file.\")"
   ]
  },
  {
   "cell_type": "markdown",
   "metadata": {},
   "source": [
    "### Run the cell below to execute the program"
   ]
  },
  {
   "cell_type": "code",
   "execution_count": 3,
   "metadata": {},
   "outputs": [
    {
     "name": "stdout",
     "output_type": "stream",
     "text": [
      "Conversion complete! Check the 'formatted_legal.txt' file.\n"
     ]
    }
   ],
   "source": [
    "convert_legal_description(file_path)"
   ]
  }
 ],
 "metadata": {
  "kernelspec": {
   "display_name": "venv",
   "language": "python",
   "name": "python3"
  },
  "language_info": {
   "codemirror_mode": {
    "name": "ipython",
    "version": 3
   },
   "file_extension": ".py",
   "mimetype": "text/x-python",
   "name": "python",
   "nbconvert_exporter": "python",
   "pygments_lexer": "ipython3",
   "version": "3.12.7"
  }
 },
 "nbformat": 4,
 "nbformat_minor": 2
}
