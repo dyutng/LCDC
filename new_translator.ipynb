{
 "cells": [
  {
   "cell_type": "code",
   "execution_count": 53,
   "metadata": {},
   "outputs": [],
   "source": [
    "file_path = 'legal3.txt'"
   ]
  },
  {
   "cell_type": "code",
   "execution_count": 54,
   "metadata": {},
   "outputs": [
    {
     "name": "stdout",
     "output_type": "stream",
     "text": [
      "    34  7N  11E                  1 2                  1 4            34       7              11                                                                                              1 4                        34         N 86 28 44 E   495.57       N 86 23 34 E                                               34         S 03 26 01 E   903.62              S 14 16 53 E   681.01       670.85                      S 70 34 08 E   736.43                                   1 2                  1 4                 34                               S 03 16 33 E   370.00       S 03 16 44 E                                                          2       901                                                       S 84 25 15 W   467.43       467.48                      S 86 23 34 W   834.19                         1 4                      34                    1 4       N 03 26 01 W   2247.88                                               36.706                                                                                                                                                                        07 05 2023      003 034 013 01  003 034 013 10  003 034 013 20  003 034 013 30  \n",
      "Conversion complete! Check the 'formatted_legal.txt' file.\n"
     ]
    }
   ],
   "source": [
    "import re\n",
    "\n",
    "\n",
    "def read_file(file_path):\n",
    "    with open(file_path, 'r') as file:\n",
    "        legal = file.read()\n",
    "    return legal\n",
    "\n",
    "\n",
    "def remove_clutter(legal):\n",
    "    # Replaces the following characters with a space:\n",
    "    # - Letters that are not N, S, E, or W\n",
    "    # - Dots that are not preceded or followed by a digit\n",
    "    # - N, S, E, or W that are preceded or followed by a letter\n",
    "    # - Special characters/symbols\n",
    "    cleaned = re.sub(r\"[^NSEW\\d\\.]|(?<!\\d)\\.|\\.{1}(?!\\d)|(?<=[a-zA-Z])[NSEW]|[NSEW](?=[a-zA-Z])\", \" \", legal)\n",
    "\n",
    "    # Then, replace all non-separated groups of NSEW (such as NS, EW, etc) with a space\n",
    "    cleaned = re.sub(r\"(?<!\\w)([NSEW]{2,})(?!\\w)\", \" \", cleaned)\n",
    "\n",
    "    print(cleaned)\n",
    "    return cleaned\n",
    "\n",
    "\n",
    "def fit_pattern(cleaned):\n",
    "    pattern = re.compile(r\"([NS])\\s{0,5}(\\d{2})\\s{0,5}(\\d{2})\\s{0,5}(\\d{2})\\s{0,5}([EW])\\s{0,5}([\\d.]+)\")\n",
    "\n",
    "    # Find all matches\n",
    "    matches = pattern.findall(cleaned)\n",
    "\n",
    "    formatted_lines = []\n",
    "\n",
    "    # Iterate over matches to format them\n",
    "    for match in matches:\n",
    "        direction1 = match[0]\n",
    "        degrees = match[1]\n",
    "        minutes = match[2]\n",
    "        seconds = match[3]\n",
    "        direction2 = match[4]\n",
    "        distance = match[5]\n",
    "\n",
    "        # Create the formatted string\n",
    "        formatted_line = f\"{direction1} {degrees}:{minutes}:{seconds} {direction2} {distance}\"\n",
    "        formatted_lines.append(formatted_line)\n",
    "\n",
    "    return formatted_lines\n",
    "\n",
    "\n",
    "# Write the formatted lines to a new file or print them\n",
    "def write_file(formatted_lines):\n",
    "    with open('formatted_legal.txt', 'w') as output_file:\n",
    "        for line in formatted_lines:\n",
    "            output_file.write(line + '\\n')\n",
    "\n",
    "    print(\"Conversion complete! Check the 'formatted_legal.txt' file.\")\n",
    "\n",
    "\n",
    "legal = read_file(file_path)\n",
    "cleaned = remove_clutter(legal)\n",
    "formatted_lines = fit_pattern(cleaned)\n",
    "write_file(formatted_lines)\n"
   ]
  }
 ],
 "metadata": {
  "kernelspec": {
   "display_name": "venv",
   "language": "python",
   "name": "python3"
  },
  "language_info": {
   "codemirror_mode": {
    "name": "ipython",
    "version": 3
   },
   "file_extension": ".py",
   "mimetype": "text/x-python",
   "name": "python",
   "nbconvert_exporter": "python",
   "pygments_lexer": "ipython3",
   "version": "3.12.7"
  }
 },
 "nbformat": 4,
 "nbformat_minor": 2
}
